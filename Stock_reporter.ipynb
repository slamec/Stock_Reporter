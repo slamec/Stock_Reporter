{
 "cells": [
  {
   "cell_type": "code",
   "execution_count": null,
   "metadata": {},
   "outputs": [],
   "source": [
    "import yfinance as yf\n",
    "import pandas as pd\n",
    "import matplotlib.pyplot as plt\n",
    "\n",
    "data = pd.read_csv(\"Portfolio.csv\")\n",
    "data\n"
   ]
  },
  {
   "cell_type": "code",
   "execution_count": null,
   "metadata": {},
   "outputs": [],
   "source": [
    "purchase_price = data[\"Symbol\"] + \" \" + data[\"Purchase Price\"].astype(str)\n",
    "purchase_price_list = purchase_price.tolist()\n",
    "purchase_price_list\n",
    "\n"
   ]
  },
  {
   "cell_type": "code",
   "execution_count": null,
   "metadata": {},
   "outputs": [],
   "source": [
    "stock_symbol = data[\"Symbol\"]\n",
    "stock_list = stock_symbol.tolist()\n",
    "\n",
    "\n",
    "def current_stock_price():\n",
    "    #loop over a list of stocks and return current price of each stock\n",
    "    #while vs. for loop tutorial: https://www.youtube.com/watch?v=BPdyZpXW9F8\n",
    "    i = 0\n",
    "    \n",
    "    while i < len(stock_list):\n",
    "        price = print(str(stock_symbol[i]) + \" \" + str(yf.Ticker(stock_list[i]).info['regularMarketPrice']))\n",
    "        i += 1\n",
    "    return i, price\n",
    "\n",
    "current_prices = current_stock_price()\n",
    "current_prices\n",
    "\n",
    "\n",
    "\n",
    "\n",
    "\n",
    "\n",
    "\n",
    "\n"
   ]
  }
 ],
 "metadata": {
  "interpreter": {
   "hash": "2a279b8722137ceac6d241df885d2f7faf729ee1e93d4d5ec23db6ec23a22099"
  },
  "kernelspec": {
   "display_name": "Python 3.9.6 64-bit",
   "name": "python3"
  },
  "language_info": {
   "codemirror_mode": {
    "name": "ipython",
    "version": 3
   },
   "file_extension": ".py",
   "mimetype": "text/x-python",
   "name": "python",
   "nbconvert_exporter": "python",
   "pygments_lexer": "ipython3",
   "version": "3.9.6"
  },
  "orig_nbformat": 4
 },
 "nbformat": 4,
 "nbformat_minor": 2
}
